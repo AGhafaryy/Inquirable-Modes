{
  "metadata": {
    "kernelspec": {
      "language": "python",
      "display_name": "Python 3",
      "name": "python3"
    },
    "language_info": {
      "name": "python",
      "version": "3.7.12",
      "mimetype": "text/x-python",
      "codemirror_mode": {
        "name": "ipython",
        "version": 3
      },
      "pygments_lexer": "ipython3",
      "nbconvert_exporter": "python",
      "file_extension": ".py"
    },
    "kaggle": {
      "accelerator": "none",
      "dataSources": [
        {
          "sourceId": 4289678,
          "sourceType": "datasetVersion",
          "datasetId": 2527538
        }
      ],
      "dockerImageVersionId": 30445,
      "isInternetEnabled": true,
      "language": "python",
      "sourceType": "notebook",
      "isGpuEnabled": false
    },
    "colab": {
      "provenance": []
    }
  },
  "nbformat_minor": 0,
  "nbformat": 4,
  "cells": [
    {
      "cell_type": "markdown",
      "source": [
        "## Imports and Installations"
      ],
      "metadata": {
        "id": "7tLQ2gfzYq4X"
      }
    },
    {
      "cell_type": "code",
      "source": [
        "import random\n",
        "\n",
        "# Set a seed for the random number generator\n",
        "random.seed(42)  # You can choose any integer as the seed"
      ],
      "metadata": {
        "id": "fiLI5owiWDx6"
      },
      "execution_count": null,
      "outputs": []
    },
    {
      "cell_type": "code",
      "source": [
        "!pip install shap"
      ],
      "metadata": {
        "execution": {
          "iopub.status.busy": "2023-12-04T23:48:44.202412Z",
          "iopub.execute_input": "2023-12-04T23:48:44.202747Z",
          "iopub.status.idle": "2023-12-04T23:48:53.275168Z",
          "shell.execute_reply.started": "2023-12-04T23:48:44.202719Z",
          "shell.execute_reply": "2023-12-04T23:48:53.274077Z"
        },
        "trusted": true,
        "colab": {
          "base_uri": "https://localhost:8080/"
        },
        "id": "yzDd-YM-SX6L",
        "outputId": "d5f9fb83-7f71-4e7e-c1ab-f7ad983f0e22"
      },
      "execution_count": null,
      "outputs": [
        {
          "output_type": "stream",
          "name": "stdout",
          "text": [
            "Collecting shap\n",
            "  Downloading shap-0.44.0-cp310-cp310-manylinux_2_12_x86_64.manylinux2010_x86_64.manylinux_2_17_x86_64.manylinux2014_x86_64.whl (533 kB)\n",
            "\u001b[?25l     \u001b[90m━━━━━━━━━━━━━━━━━━━━━━━━━━━━━━━━━━━━━━━━\u001b[0m \u001b[32m0.0/533.5 kB\u001b[0m \u001b[31m?\u001b[0m eta \u001b[36m-:--:--\u001b[0m\r\u001b[2K     \u001b[91m━━━━━━━━━━\u001b[0m\u001b[91m╸\u001b[0m\u001b[90m━━━━━━━━━━━━━━━━━━━━━━━━━━━━━\u001b[0m \u001b[32m143.4/533.5 kB\u001b[0m \u001b[31m4.3 MB/s\u001b[0m eta \u001b[36m0:00:01\u001b[0m\r\u001b[2K     \u001b[90m━━━━━━━━━━━━━━━━━━━━━━━━━━━━━━━━━━━━━━━━\u001b[0m \u001b[32m533.5/533.5 kB\u001b[0m \u001b[31m8.5 MB/s\u001b[0m eta \u001b[36m0:00:00\u001b[0m\n",
            "\u001b[?25hRequirement already satisfied: numpy in /usr/local/lib/python3.10/dist-packages (from shap) (1.23.5)\n",
            "Requirement already satisfied: scipy in /usr/local/lib/python3.10/dist-packages (from shap) (1.11.4)\n",
            "Requirement already satisfied: scikit-learn in /usr/local/lib/python3.10/dist-packages (from shap) (1.2.2)\n",
            "Requirement already satisfied: pandas in /usr/local/lib/python3.10/dist-packages (from shap) (1.5.3)\n",
            "Requirement already satisfied: tqdm>=4.27.0 in /usr/local/lib/python3.10/dist-packages (from shap) (4.66.1)\n",
            "Requirement already satisfied: packaging>20.9 in /usr/local/lib/python3.10/dist-packages (from shap) (23.2)\n",
            "Collecting slicer==0.0.7 (from shap)\n",
            "  Downloading slicer-0.0.7-py3-none-any.whl (14 kB)\n",
            "Requirement already satisfied: numba in /usr/local/lib/python3.10/dist-packages (from shap) (0.58.1)\n",
            "Requirement already satisfied: cloudpickle in /usr/local/lib/python3.10/dist-packages (from shap) (2.2.1)\n",
            "Requirement already satisfied: llvmlite<0.42,>=0.41.0dev0 in /usr/local/lib/python3.10/dist-packages (from numba->shap) (0.41.1)\n",
            "Requirement already satisfied: python-dateutil>=2.8.1 in /usr/local/lib/python3.10/dist-packages (from pandas->shap) (2.8.2)\n",
            "Requirement already satisfied: pytz>=2020.1 in /usr/local/lib/python3.10/dist-packages (from pandas->shap) (2023.3.post1)\n",
            "Requirement already satisfied: joblib>=1.1.1 in /usr/local/lib/python3.10/dist-packages (from scikit-learn->shap) (1.3.2)\n",
            "Requirement already satisfied: threadpoolctl>=2.0.0 in /usr/local/lib/python3.10/dist-packages (from scikit-learn->shap) (3.2.0)\n",
            "Requirement already satisfied: six>=1.5 in /usr/local/lib/python3.10/dist-packages (from python-dateutil>=2.8.1->pandas->shap) (1.16.0)\n",
            "Installing collected packages: slicer, shap\n",
            "Successfully installed shap-0.44.0 slicer-0.0.7\n"
          ]
        }
      ]
    },
    {
      "cell_type": "code",
      "source": [
        "# Libraries\n",
        "import numpy as np\n",
        "import pandas as pd\n",
        "import statsmodels.api as sm\n",
        "import statsmodels.formula.api as smf\n",
        "import seaborn as sns\n",
        "from sklearn.preprocessing import scale\n",
        "from sklearn.utils import resample\n",
        "from sklearn.model_selection import train_test_split, GridSearchCV, cross_val_score, cross_val_predict\n",
        "from sklearn.metrics import confusion_matrix, accuracy_score, classification_report\n",
        "from sklearn.metrics import roc_auc_score,roc_curve\n",
        "import matplotlib.pyplot as plt\n",
        "from sklearn.preprocessing import MinMaxScaler, LabelEncoder, StandardScaler, RobustScaler\n",
        "from sklearn.neighbors import KNeighborsClassifier\n",
        "from sklearn import tree\n",
        "from sklearn.preprocessing import StandardScaler\n",
        "from sklearn.ensemble import RandomForestClassifier\n",
        "from sklearn.ensemble import GradientBoostingClassifier\n",
        "from xgboost import XGBClassifier\n",
        "from lightgbm import LGBMClassifier\n",
        "from sklearn.tree import DecisionTreeClassifier\n",
        "from sklearn.metrics import mean_squared_error\n",
        "from warnings import filterwarnings\n",
        "import random\n",
        "filterwarnings('ignore')\n"
      ],
      "metadata": {
        "_uuid": "8f2839f25d086af736a60e9eeb907d3b93b6e0e5",
        "_cell_guid": "b1076dfc-b9ad-4769-8c92-a6c4dae69d19",
        "execution": {
          "iopub.status.busy": "2023-12-04T23:48:53.277800Z",
          "iopub.execute_input": "2023-12-04T23:48:53.278201Z",
          "iopub.status.idle": "2023-12-04T23:48:53.286499Z",
          "shell.execute_reply.started": "2023-12-04T23:48:53.278163Z",
          "shell.execute_reply": "2023-12-04T23:48:53.285575Z"
        },
        "trusted": true,
        "id": "4VuqAqjiSX6M"
      },
      "execution_count": null,
      "outputs": []
    },
    {
      "cell_type": "markdown",
      "source": [
        "## DATASET"
      ],
      "metadata": {
        "id": "HNWhSkI0SX6N"
      }
    },
    {
      "cell_type": "code",
      "source": [
        "pd.set_option('display.max_columns', None)\n",
        "pd.set_option('display.max_rows', None)\n",
        "pd.set_option('display.float_format', lambda x: '%.3f' % x)\n",
        "pd.set_option('display.width', 500)\n",
        "\n",
        "diabetes = pd.read_csv(\"./Dataset/heart_failure_dataset.csv\")\n",
        "df = diabetes.copy()\n",
        "df.head()"
      ],
      "metadata": {
        "execution": {
          "iopub.status.busy": "2023-12-04T23:48:53.287470Z",
          "iopub.execute_input": "2023-12-04T23:48:53.287806Z",
          "iopub.status.idle": "2023-12-04T23:48:53.311053Z",
          "shell.execute_reply.started": "2023-12-04T23:48:53.287772Z",
          "shell.execute_reply": "2023-12-04T23:48:53.310165Z"
        },
        "trusted": true,
        "id": "kGHyfBOySX6N"
      },
      "execution_count": 3,
      "outputs": []
    },
    {
      "cell_type": "code",
      "source": [
        "df.columns"
      ],
      "metadata": {
        "colab": {
          "base_uri": "https://localhost:8080/"
        },
        "id": "JtcvtcTjGkSP",
        "outputId": "53848f0a-1224-4ed8-eb6c-919ef9a1b2f0"
      },
      "execution_count": null,
      "outputs": [
        {
          "output_type": "execute_result",
          "data": {
            "text/plain": [
              "Index(['age', 'anaemia', 'creatinine_phosphokinase', 'diabetes', 'ejection_fraction', 'high_blood_pressure', 'platelets', 'serum_creatinine', 'serum_sodium', 'sex', 'smoking', 'time', 'DEATH_EVENT'], dtype='object')"
            ]
          },
          "metadata": {},
          "execution_count": 5
        }
      ]
    },
    {
      "cell_type": "markdown",
      "source": [
        "## Removing Outliers"
      ],
      "metadata": {
        "id": "8-HTCOTaMFdI"
      }
    },
    {
      "cell_type": "code",
      "source": [
        "df.DEATH_EVENT.value_counts()"
      ],
      "metadata": {
        "colab": {
          "base_uri": "https://localhost:8080/"
        },
        "id": "2iZ2tr17QUfV",
        "outputId": "46e36423-89f6-447f-a906-9827e07f9611"
      },
      "execution_count": null,
      "outputs": [
        {
          "output_type": "execute_result",
          "data": {
            "text/plain": [
              "0    163\n",
              "1    163\n",
              "Name: DEATH_EVENT, dtype: int64"
            ]
          },
          "metadata": {},
          "execution_count": 6
        }
      ]
    },
    {
      "cell_type": "code",
      "source": [
        "# Q1 = df.quantile(0.25)\n",
        "# Q3 = df.quantile(0.75)\n",
        "# IQR = Q3 - Q1\n",
        "# print(f\"Shape before removing outliers: {df.shape}\")\n",
        "\n",
        "# # Use boolean indexing to filter outliers\n",
        "# outliers = ((df < (Q1 - 1.5 * IQR)) | (df > (Q3 + 1.5 * IQR))).any(axis=1)\n",
        "# df = df[~outliers].reset_index(drop=True)\n",
        "\n",
        "# print(f\"Shape after removing outliers: {df.shape}\")\n",
        "# print(f\"Outliers removed: {outliers.sum()}\")"
      ],
      "metadata": {
        "id": "F98MSRvTIQDu"
      },
      "execution_count": null,
      "outputs": []
    },
    {
      "cell_type": "code",
      "source": [
        "# df_majority = df[df.DEATH_EVENT == 0]\n",
        "# df_minority = df[df.DEATH_EVENT == 1]\n",
        "\n",
        "# # Double the minority class\n",
        "# df_minority_doubled = resample(df_minority,\n",
        "#                                replace=True,      # sample with replacement\n",
        "#                                n_samples=len(df_majority), # to double minority class\n",
        "#                                random_state=123)  # reproducible results\n",
        "\n",
        "# # Combine majority class with doubled minority class\n",
        "# df_balanced = pd.concat([df_majority, df_minority_doubled])\n",
        "\n",
        "# # Display new class counts\n",
        "# print(df_balanced.DEATH_EVENT.value_counts())"
      ],
      "metadata": {
        "id": "X-7YKGhQQoJO"
      },
      "execution_count": null,
      "outputs": []
    },
    {
      "cell_type": "code",
      "source": [
        "controllable_feature = ['diabetes','anaemia','creatinine_phosphokinase', 'serum_sodium','smoking',\\\n",
        "                        'high_blood_pressure','platelets','serum_creatinine','ejection_fraction']\n",
        "#features which a user can potentially alter by altering their lifestyles apparently"
      ],
      "metadata": {
        "id": "kfcAxNJ_LRw3"
      },
      "execution_count": null,
      "outputs": []
    },
    {
      "cell_type": "code",
      "source": [
        "# df_balanced.to_csv('heart_failure_dataset.csv',index = False)"
      ],
      "metadata": {
        "id": "iLnPWbbPe39r"
      },
      "execution_count": null,
      "outputs": []
    },
    {
      "cell_type": "code",
      "source": [
        "X = df[controllable_feature]\n",
        "y = df['DEATH_EVENT']"
      ],
      "metadata": {
        "id": "bVotmmHWIP_x"
      },
      "execution_count": null,
      "outputs": []
    },
    {
      "cell_type": "markdown",
      "source": [
        "## Splitting Data and Training"
      ],
      "metadata": {
        "id": "7FhFopWCNDxE"
      }
    },
    {
      "cell_type": "code",
      "source": [
        "from sklearn.model_selection import train_test_split\n",
        "\n",
        "X_train, X_test,y_train,y_test= train_test_split(X,y,random_state=42,test_size=0.20)\n",
        "X_train.shape, X_test.shape, y_test.shape,y_train.shape"
      ],
      "metadata": {
        "colab": {
          "base_uri": "https://localhost:8080/"
        },
        "id": "7f1hlkUuNVzg",
        "outputId": "ba3195c6-2048-4d79-b593-a1818918e6da"
      },
      "execution_count": null,
      "outputs": [
        {
          "output_type": "execute_result",
          "data": {
            "text/plain": [
              "((260, 9), (66, 9), (66,), (260,))"
            ]
          },
          "metadata": {},
          "execution_count": 12
        }
      ]
    },
    {
      "cell_type": "code",
      "source": [
        "# binary_col = ['anaemia', 'diabetes','high_blood_pressure','smoking']\n",
        "# continuous_col = result = list(set(X_train.columns) - set(binary_col))"
      ],
      "metadata": {
        "id": "4aahOp8UWmsz"
      },
      "execution_count": null,
      "outputs": []
    },
    {
      "cell_type": "code",
      "source": [
        "sc = StandardScaler()\n",
        "X_train = sc.fit_transform(X_train)\n",
        "X_test= sc.transform(X_test)\n",
        "X_test_df = pd.DataFrame(X_test, columns=['diabetes', 'anaemia', 'creatinine_phosphokinase', 'serum_sodium', 'smoking', 'high_blood_pressure',\n",
        "                                                          'platelets', 'serum_creatinine', 'ejection_fraction'])\n"
      ],
      "metadata": {
        "id": "reBpKxeEIP9d"
      },
      "execution_count": null,
      "outputs": []
    },
    {
      "cell_type": "code",
      "source": [
        "from sklearn.ensemble import RandomForestClassifier\n",
        "\n",
        "rf = RandomForestClassifier(random_state = 42)\n",
        "rf_model = rf.fit(X_train, y_train)\n",
        "y_pred = rf_model.predict(X_test)\n",
        "accuracy = accuracy_score(y_test, y_pred)\n",
        "print(classification_report(y_test, y_pred))"
      ],
      "metadata": {
        "colab": {
          "base_uri": "https://localhost:8080/"
        },
        "id": "aL_HucYAdski",
        "outputId": "9fb833de-d260-4b10-8871-d7b7b82c77bd"
      },
      "execution_count": null,
      "outputs": [
        {
          "output_type": "stream",
          "name": "stdout",
          "text": [
            "              precision    recall  f1-score   support\n",
            "\n",
            "           0       0.93      0.76      0.83        33\n",
            "           1       0.79      0.94      0.86        33\n",
            "\n",
            "    accuracy                           0.85        66\n",
            "   macro avg       0.86      0.85      0.85        66\n",
            "weighted avg       0.86      0.85      0.85        66\n",
            "\n"
          ]
        }
      ]
    },
    {
      "cell_type": "markdown",
      "source": [
        "## Getting SHAPley values"
      ],
      "metadata": {
        "id": "DVpOSKIFY2OG"
      }
    },
    {
      "cell_type": "code",
      "source": [
        "import shap\n",
        "explainer = shap.TreeExplainer(rf, X_train)\n",
        "\n",
        "# Calculate SHAP values for the test data\n",
        "shap_values = explainer.shap_values(X_test, check_additivity=False)\n",
        "\n",
        "# Create a summary plot for feature importance across all predictions\n",
        "shap.summary_plot(shap_values[1], X_test, feature_names=X.columns)"
      ],
      "metadata": {
        "execution": {
          "iopub.status.busy": "2023-12-04T23:49:00.947977Z",
          "iopub.execute_input": "2023-12-04T23:49:00.948439Z",
          "iopub.status.idle": "2023-12-04T23:49:02.303639Z",
          "shell.execute_reply.started": "2023-12-04T23:49:00.948367Z",
          "shell.execute_reply": "2023-12-04T23:49:02.302574Z"
        },
        "trusted": true,
        "id": "_fEpimjBSX6e",
        "colab": {
          "base_uri": "https://localhost:8080/",
          "height": 516
        },
        "outputId": "a6f0d670-9525-493b-eae9-c99d9609bf7c"
      },
      "execution_count": null,
      "outputs": [
        {
          "output_type": "display_data",
          "data": {
            "text/plain": [
              "<Figure size 800x510 with 2 Axes>"
            ],
            "image/png": "[encoded data removed]"
          },
          "metadata": {}
        }
      ]
    },
    {
      "cell_type": "code",
      "source": [
        "X_test_ID = X_test_df.copy()\n",
        "X_test_ID['ID'] = [i for i in range(1, len(X_test)+1)]"
      ],
      "metadata": {
        "execution": {
          "iopub.status.busy": "2023-12-04T23:49:02.305298Z",
          "iopub.execute_input": "2023-12-04T23:49:02.305669Z",
          "iopub.status.idle": "2023-12-04T23:49:02.311328Z",
          "shell.execute_reply.started": "2023-12-04T23:49:02.305634Z",
          "shell.execute_reply": "2023-12-04T23:49:02.310301Z"
        },
        "trusted": true,
        "id": "BfarFeWsSX6e"
      },
      "execution_count": null,
      "outputs": []
    },
    {
      "cell_type": "code",
      "source": [
        "#shap_values = explainer(X_test)\n",
        "\n",
        "# Create a DataFrame with SHAP values and 'ID' as a separate column\n",
        "shap_df = pd.DataFrame(shap_values[1], columns=X_test_df.columns)\n",
        "\n",
        "shap_df['ID'] = list(X_test_ID['ID'])\n",
        "class_probabilities = rf.predict_proba(X_test)[:, 1]\n",
        "predicted_labels = rf.predict(X_test)\n",
        "shap_df['prediction'] = predicted_labels\n",
        "shap_df['class_prob'] = class_probabilities"
      ],
      "metadata": {
        "execution": {
          "iopub.status.busy": "2023-12-04T23:49:02.312866Z",
          "iopub.execute_input": "2023-12-04T23:49:02.313191Z",
          "iopub.status.idle": "2023-12-04T23:49:02.326271Z",
          "shell.execute_reply.started": "2023-12-04T23:49:02.313154Z",
          "shell.execute_reply": "2023-12-04T23:49:02.325303Z"
        },
        "trusted": true,
        "id": "qetNSjvSSX6e"
      },
      "execution_count": null,
      "outputs": []
    },
    {
      "cell_type": "code",
      "source": [
        "shap_df.head()"
      ],
      "metadata": {
        "execution": {
          "iopub.status.busy": "2023-12-04T23:49:02.340432Z",
          "iopub.execute_input": "2023-12-04T23:49:02.340766Z",
          "iopub.status.idle": "2023-12-04T23:49:02.354340Z",
          "shell.execute_reply.started": "2023-12-04T23:49:02.340727Z",
          "shell.execute_reply": "2023-12-04T23:49:02.352861Z"
        },
        "trusted": true,
        "id": "GctLTXj_SX6f",
        "colab": {
          "base_uri": "https://localhost:8080/",
          "height": 226
        },
        "outputId": "c607b8e3-4f64-4e08-df3f-c6710b3d6109"
      },
      "execution_count": null,
      "outputs": [
        {
          "output_type": "execute_result",
          "data": {
            "text/plain": [
              "   diabetes  anaemia  creatinine_phosphokinase  serum_sodium  smoking  high_blood_pressure  platelets  serum_creatinine  ejection_fraction  ID  prediction  class_prob\n",
              "0     0.007    0.007                     0.087         0.015    0.024               -0.006      0.064             0.096              0.164   1           1       0.990\n",
              "1     0.005    0.003                    -0.017         0.005   -0.026               -0.003     -0.073             0.068              0.096   2           1       0.590\n",
              "2     0.010   -0.001                     0.034         0.030   -0.012               -0.010      0.016             0.253              0.128   3           1       0.980\n",
              "3     0.011   -0.003                     0.001        -0.032    0.023               -0.024      0.050             0.072             -0.089   4           1       0.540\n",
              "4    -0.001    0.018                    -0.080        -0.057    0.015               -0.015     -0.058            -0.163             -0.121   5           0       0.070"
            ],
            "text/html": [
              "\n",
              "  <div id=\"df-62e8c3c6-86bd-4c87-92ca-ea63b03296f8\" class=\"colab-df-container\">\n",
              "    <div>\n",
              "<style scoped>\n",
              "    .dataframe tbody tr th:only-of-type {\n",
              "        vertical-align: middle;\n",
              "    }\n",
              "\n",
              "    .dataframe tbody tr th {\n",
              "        vertical-align: top;\n",
              "    }\n",
              "\n",
              "    .dataframe thead th {\n",
              "        text-align: right;\n",
              "    }\n",
              "</style>\n",
              "<table border=\"1\" class=\"dataframe\">\n",
              "  <thead>\n",
              "    <tr style=\"text-align: right;\">\n",
              "      <th></th>\n",
              "      <th>diabetes</th>\n",
              "      <th>anaemia</th>\n",
              "      <th>creatinine_phosphokinase</th>\n",
              "      <th>serum_sodium</th>\n",
              "      <th>smoking</th>\n",
              "      <th>high_blood_pressure</th>\n",
              "      <th>platelets</th>\n",
              "      <th>serum_creatinine</th>\n",
              "      <th>ejection_fraction</th>\n",
              "      <th>ID</th>\n",
              "      <th>prediction</th>\n",
              "      <th>class_prob</th>\n",
              "    </tr>\n",
              "  </thead>\n",
              "  <tbody>\n",
              "    <tr>\n",
              "      <th>0</th>\n",
              "      <td>0.007</td>\n",
              "      <td>0.007</td>\n",
              "      <td>0.087</td>\n",
              "      <td>0.015</td>\n",
              "      <td>0.024</td>\n",
              "      <td>-0.006</td>\n",
              "      <td>0.064</td>\n",
              "      <td>0.096</td>\n",
              "      <td>0.164</td>\n",
              "      <td>1</td>\n",
              "      <td>1</td>\n",
              "      <td>0.990</td>\n",
              "    </tr>\n",
              "    <tr>\n",
              "      <th>1</th>\n",
              "      <td>0.005</td>\n",
              "      <td>0.003</td>\n",
              "      <td>-0.017</td>\n",
              "      <td>0.005</td>\n",
              "      <td>-0.026</td>\n",
              "      <td>-0.003</td>\n",
              "      <td>-0.073</td>\n",
              "      <td>0.068</td>\n",
              "      <td>0.096</td>\n",
              "      <td>2</td>\n",
              "      <td>1</td>\n",
              "      <td>0.590</td>\n",
              "    </tr>\n",
              "    <tr>\n",
              "      <th>2</th>\n",
              "      <td>0.010</td>\n",
              "      <td>-0.001</td>\n",
              "      <td>0.034</td>\n",
              "      <td>0.030</td>\n",
              "      <td>-0.012</td>\n",
              "      <td>-0.010</td>\n",
              "      <td>0.016</td>\n",
              "      <td>0.253</td>\n",
              "      <td>0.128</td>\n",
              "      <td>3</td>\n",
              "      <td>1</td>\n",
              "      <td>0.980</td>\n",
              "    </tr>\n",
              "    <tr>\n",
              "      <th>3</th>\n",
              "      <td>0.011</td>\n",
              "      <td>-0.003</td>\n",
              "      <td>0.001</td>\n",
              "      <td>-0.032</td>\n",
              "      <td>0.023</td>\n",
              "      <td>-0.024</td>\n",
              "      <td>0.050</td>\n",
              "      <td>0.072</td>\n",
              "      <td>-0.089</td>\n",
              "      <td>4</td>\n",
              "      <td>1</td>\n",
              "      <td>0.540</td>\n",
              "    </tr>\n",
              "    <tr>\n",
              "      <th>4</th>\n",
              "      <td>-0.001</td>\n",
              "      <td>0.018</td>\n",
              "      <td>-0.080</td>\n",
              "      <td>-0.057</td>\n",
              "      <td>0.015</td>\n",
              "      <td>-0.015</td>\n",
              "      <td>-0.058</td>\n",
              "      <td>-0.163</td>\n",
              "      <td>-0.121</td>\n",
              "      <td>5</td>\n",
              "      <td>0</td>\n",
              "      <td>0.070</td>\n",
              "    </tr>\n",
              "  </tbody>\n",
              "</table>\n",
              "</div>\n",
              "    <div class=\"colab-df-buttons\">\n",
              "\n",
              "  <div class=\"colab-df-container\">\n",
              "    <button class=\"colab-df-convert\" onclick=\"convertToInteractive('df-62e8c3c6-86bd-4c87-92ca-ea63b03296f8')\"\n",
              "            title=\"Convert this dataframe to an interactive table.\"\n",
              "            style=\"display:none;\">\n",
              "\n",
              "  <svg xmlns=\"http://www.w3.org/2000/svg\" height=\"24px\" viewBox=\"0 -960 960 960\">\n",
              "    <path d=\"M120-120v-720h720v720H120Zm60-500h600v-160H180v160Zm220 220h160v-160H400v160Zm0 220h160v-160H400v160ZM180-400h160v-160H180v160Zm440 0h160v-160H620v160ZM180-180h160v-160H180v160Zm440 0h160v-160H620v160Z\"/>\n",
              "  </svg>\n",
              "    </button>\n",
              "\n",
              "  <style>\n",
              "    .colab-df-container {\n",
              "      display:flex;\n",
              "      gap: 12px;\n",
              "    }\n",
              "\n",
              "    .colab-df-convert {\n",
              "      background-color: #E8F0FE;\n",
              "      border: none;\n",
              "      border-radius: 50%;\n",
              "      cursor: pointer;\n",
              "      display: none;\n",
              "      fill: #1967D2;\n",
              "      height: 32px;\n",
              "      padding: 0 0 0 0;\n",
              "      width: 32px;\n",
              "    }\n",
              "\n",
              "    .colab-df-convert:hover {\n",
              "      background-color: #E2EBFA;\n",
              "      box-shadow: 0px 1px 2px rgba(60, 64, 67, 0.3), 0px 1px 3px 1px rgba(60, 64, 67, 0.15);\n",
              "      fill: #174EA6;\n",
              "    }\n",
              "\n",
              "    .colab-df-buttons div {\n",
              "      margin-bottom: 4px;\n",
              "    }\n",
              "\n",
              "    [theme=dark] .colab-df-convert {\n",
              "      background-color: #3B4455;\n",
              "      fill: #D2E3FC;\n",
              "    }\n",
              "\n",
              "    [theme=dark] .colab-df-convert:hover {\n",
              "      background-color: #434B5C;\n",
              "      box-shadow: 0px 1px 3px 1px rgba(0, 0, 0, 0.15);\n",
              "      filter: drop-shadow(0px 1px 2px rgba(0, 0, 0, 0.3));\n",
              "      fill: #FFFFFF;\n",
              "    }\n",
              "  </style>\n",
              "\n",
              "    <script>\n",
              "      const buttonEl =\n",
              "        document.querySelector('#df-62e8c3c6-86bd-4c87-92ca-ea63b03296f8 button.colab-df-convert');\n",
              "      buttonEl.style.display =\n",
              "        google.colab.kernel.accessAllowed ? 'block' : 'none';\n",
              "\n",
              "      async function convertToInteractive(key) {\n",
              "        const element = document.querySelector('#df-62e8c3c6-86bd-4c87-92ca-ea63b03296f8');\n",
              "        const dataTable =\n",
              "          await google.colab.kernel.invokeFunction('convertToInteractive',\n",
              "                                                    [key], {});\n",
              "        if (!dataTable) return;\n",
              "\n",
              "        const docLinkHtml = 'Like what you see? Visit the ' +\n",
              "          '<a target=\"_blank\" href=https://colab.research.google.com/notebooks/data_table.ipynb>data table notebook</a>'\n",
              "          + ' to learn more about interactive tables.';\n",
              "        element.innerHTML = '';\n",
              "        dataTable['output_type'] = 'display_data';\n",
              "        await google.colab.output.renderOutput(dataTable, element);\n",
              "        const docLink = document.createElement('div');\n",
              "        docLink.innerHTML = docLinkHtml;\n",
              "        element.appendChild(docLink);\n",
              "      }\n",
              "    </script>\n",
              "  </div>\n",
              "\n",
              "\n",
              "<div id=\"df-fc86a57d-69e2-4fe8-a55f-b052792878c7\">\n",
              "  <button class=\"colab-df-quickchart\" onclick=\"quickchart('df-fc86a57d-69e2-4fe8-a55f-b052792878c7')\"\n",
              "            title=\"Suggest charts\"\n",
              "            style=\"display:none;\">\n",
              "\n",
              "<svg xmlns=\"http://www.w3.org/2000/svg\" height=\"24px\"viewBox=\"0 0 24 24\"\n",
              "     width=\"24px\">\n",
              "    <g>\n",
              "        <path d=\"M19 3H5c-1.1 0-2 .9-2 2v14c0 1.1.9 2 2 2h14c1.1 0 2-.9 2-2V5c0-1.1-.9-2-2-2zM9 17H7v-7h2v7zm4 0h-2V7h2v10zm4 0h-2v-4h2v4z\"/>\n",
              "    </g>\n",
              "</svg>\n",
              "  </button>\n",
              "\n",
              "<style>\n",
              "  .colab-df-quickchart {\n",
              "      --bg-color: #E8F0FE;\n",
              "      --fill-color: #1967D2;\n",
              "      --hover-bg-color: #E2EBFA;\n",
              "      --hover-fill-color: #174EA6;\n",
              "      --disabled-fill-color: #AAA;\n",
              "      --disabled-bg-color: #DDD;\n",
              "  }\n",
              "\n",
              "  [theme=dark] .colab-df-quickchart {\n",
              "      --bg-color: #3B4455;\n",
              "      --fill-color: #D2E3FC;\n",
              "      --hover-bg-color: #434B5C;\n",
              "      --hover-fill-color: #FFFFFF;\n",
              "      --disabled-bg-color: #3B4455;\n",
              "      --disabled-fill-color: #666;\n",
              "  }\n",
              "\n",
              "  .colab-df-quickchart {\n",
              "    background-color: var(--bg-color);\n",
              "    border: none;\n",
              "    border-radius: 50%;\n",
              "    cursor: pointer;\n",
              "    display: none;\n",
              "    fill: var(--fill-color);\n",
              "    height: 32px;\n",
              "    padding: 0;\n",
              "    width: 32px;\n",
              "  }\n",
              "\n",
              "  .colab-df-quickchart:hover {\n",
              "    background-color: var(--hover-bg-color);\n",
              "    box-shadow: 0 1px 2px rgba(60, 64, 67, 0.3), 0 1px 3px 1px rgba(60, 64, 67, 0.15);\n",
              "    fill: var(--button-hover-fill-color);\n",
              "  }\n",
              "\n",
              "  .colab-df-quickchart-complete:disabled,\n",
              "  .colab-df-quickchart-complete:disabled:hover {\n",
              "    background-color: var(--disabled-bg-color);\n",
              "    fill: var(--disabled-fill-color);\n",
              "    box-shadow: none;\n",
              "  }\n",
              "\n",
              "  .colab-df-spinner {\n",
              "    border: 2px solid var(--fill-color);\n",
              "    border-color: transparent;\n",
              "    border-bottom-color: var(--fill-color);\n",
              "    animation:\n",
              "      spin 1s steps(1) infinite;\n",
              "  }\n",
              "\n",
              "  @keyframes spin {\n",
              "    0% {\n",
              "      border-color: transparent;\n",
              "      border-bottom-color: var(--fill-color);\n",
              "      border-left-color: var(--fill-color);\n",
              "    }\n",
              "    20% {\n",
              "      border-color: transparent;\n",
              "      border-left-color: var(--fill-color);\n",
              "      border-top-color: var(--fill-color);\n",
              "    }\n",
              "    30% {\n",
              "      border-color: transparent;\n",
              "      border-left-color: var(--fill-color);\n",
              "      border-top-color: var(--fill-color);\n",
              "      border-right-color: var(--fill-color);\n",
              "    }\n",
              "    40% {\n",
              "      border-color: transparent;\n",
              "      border-right-color: var(--fill-color);\n",
              "      border-top-color: var(--fill-color);\n",
              "    }\n",
              "    60% {\n",
              "      border-color: transparent;\n",
              "      border-right-color: var(--fill-color);\n",
              "    }\n",
              "    80% {\n",
              "      border-color: transparent;\n",
              "      border-right-color: var(--fill-color);\n",
              "      border-bottom-color: var(--fill-color);\n",
              "    }\n",
              "    90% {\n",
              "      border-color: transparent;\n",
              "      border-bottom-color: var(--fill-color);\n",
              "    }\n",
              "  }\n",
              "</style>\n",
              "\n",
              "  <script>\n",
              "    async function quickchart(key) {\n",
              "      const quickchartButtonEl =\n",
              "        document.querySelector('#' + key + ' button');\n",
              "      quickchartButtonEl.disabled = true;  // To prevent multiple clicks.\n",
              "      quickchartButtonEl.classList.add('colab-df-spinner');\n",
              "      try {\n",
              "        const charts = await google.colab.kernel.invokeFunction(\n",
              "            'suggestCharts', [key], {});\n",
              "      } catch (error) {\n",
              "        console.error('Error during call to suggestCharts:', error);\n",
              "      }\n",
              "      quickchartButtonEl.classList.remove('colab-df-spinner');\n",
              "      quickchartButtonEl.classList.add('colab-df-quickchart-complete');\n",
              "    }\n",
              "    (() => {\n",
              "      let quickchartButtonEl =\n",
              "        document.querySelector('#df-fc86a57d-69e2-4fe8-a55f-b052792878c7 button');\n",
              "      quickchartButtonEl.style.display =\n",
              "        google.colab.kernel.accessAllowed ? 'block' : 'none';\n",
              "    })();\n",
              "  </script>\n",
              "</div>\n",
              "    </div>\n",
              "  </div>\n"
            ]
          },
          "metadata": {},
          "execution_count": 20
        }
      ]
    },
    {
      "cell_type": "code",
      "source": [
        "X_test_df.head()"
      ],
      "metadata": {
        "colab": {
          "base_uri": "https://localhost:8080/",
          "height": 226
        },
        "id": "PrpTWRkCgXuR",
        "outputId": "e2e77682-140c-42e9-8a7b-58442c399b88"
      },
      "execution_count": null,
      "outputs": [
        {
          "output_type": "execute_result",
          "data": {
            "text/plain": [
              "   diabetes  anaemia  creatinine_phosphokinase  serum_sodium  smoking  high_blood_pressure  platelets  serum_creatinine  ejection_fraction\n",
              "0    -0.816    1.114                    -0.725         0.061    1.422               -0.810     -0.461             0.035             -0.953\n",
              "1    -0.816   -0.898                    -0.487        -0.698   -0.703               -0.810      0.387             0.035             -0.953\n",
              "2    -0.816   -0.898                     0.847        -0.698   -0.703               -0.810      0.223             1.757             -1.370\n",
              "3     1.225   -0.898                    -0.441         0.061    1.422               -0.810     -1.540             0.309              1.134\n",
              "4    -0.816    1.114                    -1.016         0.061    1.422               -0.810      0.433            -1.331              0.300"
            ],
            "text/html": [
              "\n",
              "  <div id=\"df-ed5bae75-4335-4b69-a246-11571cb02eea\" class=\"colab-df-container\">\n",
              "    <div>\n",
              "<style scoped>\n",
              "    .dataframe tbody tr th:only-of-type {\n",
              "        vertical-align: middle;\n",
              "    }\n",
              "\n",
              "    .dataframe tbody tr th {\n",
              "        vertical-align: top;\n",
              "    }\n",
              "\n",
              "    .dataframe thead th {\n",
              "        text-align: right;\n",
              "    }\n",
              "</style>\n",
              "<table border=\"1\" class=\"dataframe\">\n",
              "  <thead>\n",
              "    <tr style=\"text-align: right;\">\n",
              "      <th></th>\n",
              "      <th>diabetes</th>\n",
              "      <th>anaemia</th>\n",
              "      <th>creatinine_phosphokinase</th>\n",
              "      <th>serum_sodium</th>\n",
              "      <th>smoking</th>\n",
              "      <th>high_blood_pressure</th>\n",
              "      <th>platelets</th>\n",
              "      <th>serum_creatinine</th>\n",
              "      <th>ejection_fraction</th>\n",
              "    </tr>\n",
              "  </thead>\n",
              "  <tbody>\n",
              "    <tr>\n",
              "      <th>0</th>\n",
              "      <td>-0.816</td>\n",
              "      <td>1.114</td>\n",
              "      <td>-0.725</td>\n",
              "      <td>0.061</td>\n",
              "      <td>1.422</td>\n",
              "      <td>-0.810</td>\n",
              "      <td>-0.461</td>\n",
              "      <td>0.035</td>\n",
              "      <td>-0.953</td>\n",
              "    </tr>\n",
              "    <tr>\n",
              "      <th>1</th>\n",
              "      <td>-0.816</td>\n",
              "      <td>-0.898</td>\n",
              "      <td>-0.487</td>\n",
              "      <td>-0.698</td>\n",
              "      <td>-0.703</td>\n",
              "      <td>-0.810</td>\n",
              "      <td>0.387</td>\n",
              "      <td>0.035</td>\n",
              "      <td>-0.953</td>\n",
              "    </tr>\n",
              "    <tr>\n",
              "      <th>2</th>\n",
              "      <td>-0.816</td>\n",
              "      <td>-0.898</td>\n",
              "      <td>0.847</td>\n",
              "      <td>-0.698</td>\n",
              "      <td>-0.703</td>\n",
              "      <td>-0.810</td>\n",
              "      <td>0.223</td>\n",
              "      <td>1.757</td>\n",
              "      <td>-1.370</td>\n",
              "    </tr>\n",
              "    <tr>\n",
              "      <th>3</th>\n",
              "      <td>1.225</td>\n",
              "      <td>-0.898</td>\n",
              "      <td>-0.441</td>\n",
              "      <td>0.061</td>\n",
              "      <td>1.422</td>\n",
              "      <td>-0.810</td>\n",
              "      <td>-1.540</td>\n",
              "      <td>0.309</td>\n",
              "      <td>1.134</td>\n",
              "    </tr>\n",
              "    <tr>\n",
              "      <th>4</th>\n",
              "      <td>-0.816</td>\n",
              "      <td>1.114</td>\n",
              "      <td>-1.016</td>\n",
              "      <td>0.061</td>\n",
              "      <td>1.422</td>\n",
              "      <td>-0.810</td>\n",
              "      <td>0.433</td>\n",
              "      <td>-1.331</td>\n",
              "      <td>0.300</td>\n",
              "    </tr>\n",
              "  </tbody>\n",
              "</table>\n",
              "</div>\n",
              "    <div class=\"colab-df-buttons\">\n",
              "\n",
              "  <div class=\"colab-df-container\">\n",
              "    <button class=\"colab-df-convert\" onclick=\"convertToInteractive('df-ed5bae75-4335-4b69-a246-11571cb02eea')\"\n",
              "            title=\"Convert this dataframe to an interactive table.\"\n",
              "            style=\"display:none;\">\n",
              "\n",
              "  <svg xmlns=\"http://www.w3.org/2000/svg\" height=\"24px\" viewBox=\"0 -960 960 960\">\n",
              "    <path d=\"M120-120v-720h720v720H120Zm60-500h600v-160H180v160Zm220 220h160v-160H400v160Zm0 220h160v-160H400v160ZM180-400h160v-160H180v160Zm440 0h160v-160H620v160ZM180-180h160v-160H180v160Zm440 0h160v-160H620v160Z\"/>\n",
              "  </svg>\n",
              "    </button>\n",
              "\n",
              "  <style>\n",
              "    .colab-df-container {\n",
              "      display:flex;\n",
              "      gap: 12px;\n",
              "    }\n",
              "\n",
              "    .colab-df-convert {\n",
              "      background-color: #E8F0FE;\n",
              "      border: none;\n",
              "      border-radius: 50%;\n",
              "      cursor: pointer;\n",
              "      display: none;\n",
              "      fill: #1967D2;\n",
              "      height: 32px;\n",
              "      padding: 0 0 0 0;\n",
              "      width: 32px;\n",
              "    }\n",
              "\n",
              "    .colab-df-convert:hover {\n",
              "      background-color: #E2EBFA;\n",
              "      box-shadow: 0px 1px 2px rgba(60, 64, 67, 0.3), 0px 1px 3px 1px rgba(60, 64, 67, 0.15);\n",
              "      fill: #174EA6;\n",
              "    }\n",
              "\n",
              "    .colab-df-buttons div {\n",
              "      margin-bottom: 4px;\n",
              "    }\n",
              "\n",
              "    [theme=dark] .colab-df-convert {\n",
              "      background-color: #3B4455;\n",
              "      fill: #D2E3FC;\n",
              "    }\n",
              "\n",
              "    [theme=dark] .colab-df-convert:hover {\n",
              "      background-color: #434B5C;\n",
              "      box-shadow: 0px 1px 3px 1px rgba(0, 0, 0, 0.15);\n",
              "      filter: drop-shadow(0px 1px 2px rgba(0, 0, 0, 0.3));\n",
              "      fill: #FFFFFF;\n",
              "    }\n",
              "  </style>\n",
              "\n",
              "    <script>\n",
              "      const buttonEl =\n",
              "        document.querySelector('#df-ed5bae75-4335-4b69-a246-11571cb02eea button.colab-df-convert');\n",
              "      buttonEl.style.display =\n",
              "        google.colab.kernel.accessAllowed ? 'block' : 'none';\n",
              "\n",
              "      async function convertToInteractive(key) {\n",
              "        const element = document.querySelector('#df-ed5bae75-4335-4b69-a246-11571cb02eea');\n",
              "        const dataTable =\n",
              "          await google.colab.kernel.invokeFunction('convertToInteractive',\n",
              "                                                    [key], {});\n",
              "        if (!dataTable) return;\n",
              "\n",
              "        const docLinkHtml = 'Like what you see? Visit the ' +\n",
              "          '<a target=\"_blank\" href=https://colab.research.google.com/notebooks/data_table.ipynb>data table notebook</a>'\n",
              "          + ' to learn more about interactive tables.';\n",
              "        element.innerHTML = '';\n",
              "        dataTable['output_type'] = 'display_data';\n",
              "        await google.colab.output.renderOutput(dataTable, element);\n",
              "        const docLink = document.createElement('div');\n",
              "        docLink.innerHTML = docLinkHtml;\n",
              "        element.appendChild(docLink);\n",
              "      }\n",
              "    </script>\n",
              "  </div>\n",
              "\n",
              "\n",
              "<div id=\"df-10541d6e-d10a-4d4c-b4b6-ac11d7b6eb32\">\n",
              "  <button class=\"colab-df-quickchart\" onclick=\"quickchart('df-10541d6e-d10a-4d4c-b4b6-ac11d7b6eb32')\"\n",
              "            title=\"Suggest charts\"\n",
              "            style=\"display:none;\">\n",
              "\n",
              "<svg xmlns=\"http://www.w3.org/2000/svg\" height=\"24px\"viewBox=\"0 0 24 24\"\n",
              "     width=\"24px\">\n",
              "    <g>\n",
              "        <path d=\"M19 3H5c-1.1 0-2 .9-2 2v14c0 1.1.9 2 2 2h14c1.1 0 2-.9 2-2V5c0-1.1-.9-2-2-2zM9 17H7v-7h2v7zm4 0h-2V7h2v10zm4 0h-2v-4h2v4z\"/>\n",
              "    </g>\n",
              "</svg>\n",
              "  </button>\n",
              "\n",
              "<style>\n",
              "  .colab-df-quickchart {\n",
              "      --bg-color: #E8F0FE;\n",
              "      --fill-color: #1967D2;\n",
              "      --hover-bg-color: #E2EBFA;\n",
              "      --hover-fill-color: #174EA6;\n",
              "      --disabled-fill-color: #AAA;\n",
              "      --disabled-bg-color: #DDD;\n",
              "  }\n",
              "\n",
              "  [theme=dark] .colab-df-quickchart {\n",
              "      --bg-color: #3B4455;\n",
              "      --fill-color: #D2E3FC;\n",
              "      --hover-bg-color: #434B5C;\n",
              "      --hover-fill-color: #FFFFFF;\n",
              "      --disabled-bg-color: #3B4455;\n",
              "      --disabled-fill-color: #666;\n",
              "  }\n",
              "\n",
              "  .colab-df-quickchart {\n",
              "    background-color: var(--bg-color);\n",
              "    border: none;\n",
              "    border-radius: 50%;\n",
              "    cursor: pointer;\n",
              "    display: none;\n",
              "    fill: var(--fill-color);\n",
              "    height: 32px;\n",
              "    padding: 0;\n",
              "    width: 32px;\n",
              "  }\n",
              "\n",
              "  .colab-df-quickchart:hover {\n",
              "    background-color: var(--hover-bg-color);\n",
              "    box-shadow: 0 1px 2px rgba(60, 64, 67, 0.3), 0 1px 3px 1px rgba(60, 64, 67, 0.15);\n",
              "    fill: var(--button-hover-fill-color);\n",
              "  }\n",
              "\n",
              "  .colab-df-quickchart-complete:disabled,\n",
              "  .colab-df-quickchart-complete:disabled:hover {\n",
              "    background-color: var(--disabled-bg-color);\n",
              "    fill: var(--disabled-fill-color);\n",
              "    box-shadow: none;\n",
              "  }\n",
              "\n",
              "  .colab-df-spinner {\n",
              "    border: 2px solid var(--fill-color);\n",
              "    border-color: transparent;\n",
              "    border-bottom-color: var(--fill-color);\n",
              "    animation:\n",
              "      spin 1s steps(1) infinite;\n",
              "  }\n",
              "\n",
              "  @keyframes spin {\n",
              "    0% {\n",
              "      border-color: transparent;\n",
              "      border-bottom-color: var(--fill-color);\n",
              "      border-left-color: var(--fill-color);\n",
              "    }\n",
              "    20% {\n",
              "      border-color: transparent;\n",
              "      border-left-color: var(--fill-color);\n",
              "      border-top-color: var(--fill-color);\n",
              "    }\n",
              "    30% {\n",
              "      border-color: transparent;\n",
              "      border-left-color: var(--fill-color);\n",
              "      border-top-color: var(--fill-color);\n",
              "      border-right-color: var(--fill-color);\n",
              "    }\n",
              "    40% {\n",
              "      border-color: transparent;\n",
              "      border-right-color: var(--fill-color);\n",
              "      border-top-color: var(--fill-color);\n",
              "    }\n",
              "    60% {\n",
              "      border-color: transparent;\n",
              "      border-right-color: var(--fill-color);\n",
              "    }\n",
              "    80% {\n",
              "      border-color: transparent;\n",
              "      border-right-color: var(--fill-color);\n",
              "      border-bottom-color: var(--fill-color);\n",
              "    }\n",
              "    90% {\n",
              "      border-color: transparent;\n",
              "      border-bottom-color: var(--fill-color);\n",
              "    }\n",
              "  }\n",
              "</style>\n",
              "\n",
              "  <script>\n",
              "    async function quickchart(key) {\n",
              "      const quickchartButtonEl =\n",
              "        document.querySelector('#' + key + ' button');\n",
              "      quickchartButtonEl.disabled = true;  // To prevent multiple clicks.\n",
              "      quickchartButtonEl.classList.add('colab-df-spinner');\n",
              "      try {\n",
              "        const charts = await google.colab.kernel.invokeFunction(\n",
              "            'suggestCharts', [key], {});\n",
              "      } catch (error) {\n",
              "        console.error('Error during call to suggestCharts:', error);\n",
              "      }\n",
              "      quickchartButtonEl.classList.remove('colab-df-spinner');\n",
              "      quickchartButtonEl.classList.add('colab-df-quickchart-complete');\n",
              "    }\n",
              "    (() => {\n",
              "      let quickchartButtonEl =\n",
              "        document.querySelector('#df-10541d6e-d10a-4d4c-b4b6-ac11d7b6eb32 button');\n",
              "      quickchartButtonEl.style.display =\n",
              "        google.colab.kernel.accessAllowed ? 'block' : 'none';\n",
              "    })();\n",
              "  </script>\n",
              "</div>\n",
              "    </div>\n",
              "  </div>\n"
            ]
          },
          "metadata": {},
          "execution_count": 21
        }
      ]
    },
    {
      "cell_type": "code",
      "source": [
        "X_test_n = X_test_df.copy()\n",
        "X_test_n[controllable_feature] = sc.inverse_transform(X_test_df[controllable_feature])"
      ],
      "metadata": {
        "id": "42ZWqhCuUrxM"
      },
      "execution_count": null,
      "outputs": []
    },
    {
      "cell_type": "code",
      "source": [
        "X_test_n['ID'] = [i for i in range(1, len(X_test)+1)]\n",
        "X_test_n['label'] = list(y_test)"
      ],
      "metadata": {
        "id": "vXuXdE5FEu59"
      },
      "execution_count": null,
      "outputs": []
    },
    {
      "cell_type": "code",
      "source": [
        "# Set a fixed seed for reproducibility\n",
        "random_state = 42\n",
        "\n",
        "# Separate examples by class\n",
        "class_0_examples = X_test_n[X_test_n['label'] == 0]\n",
        "class_1_examples = X_test_n[X_test_n['label'] == 1]\n",
        "\n",
        "# Select 13 examples labeled as '1' and 12 examples labeled as '0'\n",
        "X_test_llm = pd.concat([class_0_examples.sample(12, random_state=random_state),\n",
        "                        class_1_examples.sample(13, random_state=random_state)])\n",
        "\n",
        "# The random_state parameter ensures consistent sampling\n"
      ],
      "metadata": {
        "id": "idunJE0dFBFl"
      },
      "execution_count": null,
      "outputs": []
    },
    {
      "cell_type": "code",
      "source": [
        "shap_df_llm = shap_df[shap_df['ID'].isin(X_test_llm['ID'])]"
      ],
      "metadata": {
        "id": "vdAyB1ALFYhx"
      },
      "execution_count": null,
      "outputs": []
    },
    {
      "cell_type": "markdown",
      "source": [
        "## Designing the Prompt"
      ],
      "metadata": {
        "id": "x55Fe_8DY8tn"
      }
    },
    {
      "cell_type": "code",
      "source": [
        "def getPrompts():\n",
        "  prompt1 = \"\"\"Hey buddy,\n",
        "We want to use natural text to query a machine-learning medical model directly, bridging the gap between complex algorithmic processes and patient comprehensibility.\n",
        "We have trained a machine learning model to predict the likelihood of the person getting diagnosed with Heart Failure when given a patient's vital feature data.\n",
        "Given the feature list and the corresponding SHAP values for that patient, I want you to translate a simple, human-understandable explanation of how the model works, and, in case of the question request lifestyle suggestion, I want you to suggest changes to the two most important features to increase the likelihood of the person surviving.\n",
        "\n",
        "\n",
        "Here is the feature list:\n",
        "['diabetes', 'anaemia','creatinine_phosphokinase','serum_sodium','smoking','high_blood_pressure', 'platelets','serum_creatinine','ejection_fraction']\n",
        "\n",
        "Here is the model prediction probability (0: No Death By Heart Failure, 1: Death By Heart Failure): \"\"\"\n",
        "\n",
        "  # prob = 0.1 # fill actual values\n",
        "\n",
        "  prompt2 = \"\"\"\\n\\nHere are this test subjects corresponding feature values: \"\"\"\n",
        "\n",
        "  # feature_values = [21,4,3,425,43,2]\n",
        "\n",
        "  prompt3 = \"\"\"\\n\\nAnd here are the corresponding SHAP values for that particular patient/record in the test set: \"\"\"\n",
        "\n",
        "  # shap_values = [2332,342,4,36,3,654,76,47]\n",
        "\n",
        "  prompt4 = \"\"\"\\n\\nThe Question:\\n\"\"\"\n",
        "\n",
        "  # ques = \"what can I as a patient focus on to reduce my risk rate?\"\n",
        "\n",
        "  prompt5=\"\\n\\nYour Answer in no more than 250 words :\\n\"\n",
        "\n",
        "  prompt6=\"\\nYou are trying to explain it to a patient who does not have a machine learning experience and what SHAP values mean.\\n\"\n",
        "\n",
        "  return prompt1, prompt2, prompt3, prompt4, prompt5,prompt6"
      ],
      "metadata": {
        "id": "LBqCujG6THcD"
      },
      "execution_count": null,
      "outputs": []
    },
    {
      "cell_type": "code",
      "source": [
        "def generate_final_prompt(prob, features_values, shap_values, ques):\n",
        "\n",
        "    prompt1, prompt2, prompt3, prompt4, prompt5, prompt6 = getPrompts()\n",
        "    prompt = prompt1 + str(prob) + prompt2 + str(features_values) + prompt3 + str(shap_values) + prompt4 + str(ques) + prompt5 + prompt6\n",
        "\n",
        "    return prompt"
      ],
      "metadata": {
        "id": "RYM-RbriTejB"
      },
      "execution_count": null,
      "outputs": []
    },
    {
      "cell_type": "code",
      "source": [
        "question_list_high_risk = [\"Why is the risk score so high?\",\"What could be done to lower the risk score?\",\"How would a change in high_blood_pressure (or/and, 'diabetes', 'anaemia', 'creatinine_phosphokinase', 'serum_sodium', 'smoking', 'platelets', 'serum_creatinine', 'ejection_fraction') affect this risk score?\"]"
      ],
      "metadata": {
        "id": "GK5p3vanW1YR"
      },
      "execution_count": null,
      "outputs": []
    },
    {
      "cell_type": "code",
      "source": [
        "question_list_low_risk = [\"What factors contributed to my low risk of diabetes?\",\"Are there specific lifestyle changes I can make to maintain this low risk?\",\"How would a change in high_blood_pressure (or/and, 'diabetes', 'anaemia', 'creatinine_phosphokinase', 'serum_sodium', 'smoking', 'platelets', 'serum_creatinine', 'ejection_fraction') affect this risk score?\"]"
      ],
      "metadata": {
        "id": "0MjINE7qifE5"
      },
      "execution_count": null,
      "outputs": []
    },
    {
      "cell_type": "code",
      "source": [
        "'''\n",
        "Get the final prompts\n",
        "'''\n",
        "\n",
        "prompt_entries = []\n",
        "for index, row in shap_df_llm.iterrows():\n",
        "  shap_values = list(row[['diabetes', 'anaemia','creatinine_phosphokinase','serum_sodium','smoking','high_blood_pressure', 'platelets','serum_creatinine','ejection_fraction']])\n",
        "  features= X_test_llm[X_test_llm['ID'] == row['ID']].iloc[0]\n",
        "  features_values = list(features[['diabetes', 'anaemia','creatinine_phosphokinase','serum_sodium','smoking','high_blood_pressure', 'platelets','serum_creatinine','ejection_fraction']])\n",
        "  pred = row['class_prob']\n",
        "  if pred>=0.5:\n",
        "    question_list = question_list_high_risk\n",
        "  else:\n",
        "    question_list = question_list_low_risk\n",
        "  for ques in question_list:\n",
        "    prompt = generate_final_prompt(pred,features_values,shap_values,ques)\n",
        "    prompt_entries.append([row['ID'], prompt])"
      ],
      "metadata": {
        "id": "4eWty-JfT8A-"
      },
      "execution_count": null,
      "outputs": []
    },
    {
      "cell_type": "code",
      "source": [
        "df_prompts = pd.DataFrame(prompt_entries, columns=['ID', 'Prompt'])"
      ],
      "metadata": {
        "id": "WblogK6dT_NN"
      },
      "execution_count": null,
      "outputs": []
    },
    {
      "cell_type": "markdown",
      "source": [
        "## Inferences"
      ],
      "metadata": {
        "id": "JF7bfhKCacCt"
      }
    },
    {
      "cell_type": "code",
      "source": [
        "scaled_data_standard = sc.transform([[0.0, 1.0, 125.0, 140.0, 0.0, 1.0, 237000.0, 0.8, 45.0]])"
      ],
      "metadata": {
        "id": "MWKlpY3lrhpe"
      },
      "execution_count": null,
      "outputs": []
    },
    {
      "cell_type": "code",
      "source": [
        "scaled_data_standard"
      ],
      "metadata": {
        "colab": {
          "base_uri": "https://localhost:8080/"
        },
        "id": "mcbsFEmAruF3",
        "outputId": "83e25db3-569b-42a7-a878-669d2295570a"
      },
      "execution_count": null,
      "outputs": [
        {
          "output_type": "execute_result",
          "data": {
            "text/plain": [
              "array([[-0.81649658,  1.11417203, -0.79678397,  0.82032345, -0.7030312 ,\n",
              "         1.23461405, -0.18332847, -1.05794304,  0.71698008]])"
            ]
          },
          "metadata": {},
          "execution_count": 60
        }
      ]
    },
    {
      "cell_type": "code",
      "source": [
        "rf.predict_proba(scaled_data_standard)[:, 1]"
      ],
      "metadata": {
        "id": "5v0nRlwLbgaV",
        "colab": {
          "base_uri": "https://localhost:8080/"
        },
        "outputId": "727341d9-1427-48d0-bb33-e4aa61395f0b"
      },
      "execution_count": null,
      "outputs": [
        {
          "output_type": "execute_result",
          "data": {
            "text/plain": [
              "array([0.21])"
            ]
          },
          "metadata": {},
          "execution_count": 61
        }
      ]
    },
    {
      "cell_type": "markdown",
      "source": [
        "## Inference"
      ],
      "metadata": {
        "id": "mWGavOYgpizD"
      }
    },
    {
      "cell_type": "code",
      "source": [
        "scores = []\n",
        "for elem in new_vector_series:\n",
        "  yo = elem\n",
        "  yo = yo.strip()  # This will remove leading and trailing whitespace, including '\\n'\n",
        "\n",
        "  # Step 2: Convert the modified string to a list\n",
        "  yo = eval(yo)\n",
        "  scaled_data_standard = sc.transform([yo])\n",
        "  score = rf.predict_proba(scaled_data_standard)[:, 1]\n",
        "  scores.append(score)"
      ],
      "metadata": {
        "id": "Qtag0K7MK7I2"
      },
      "execution_count": null,
      "outputs": []
    },
    {
      "cell_type": "code",
      "source": [],
      "metadata": {
        "id": "E47W3_-SOfFF"
      },
      "execution_count": null,
      "outputs": []
    }
  ]
}