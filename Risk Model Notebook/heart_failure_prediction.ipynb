{
  "metadata": {
    "kernelspec": {
      "language": "python",
      "display_name": "Python 3",
      "name": "python3"
    },
    "language_info": {
      "name": "python",
      "version": "3.7.12",
      "mimetype": "text/x-python",
      "codemirror_mode": {
        "name": "ipython",
        "version": 3
      },
      "pygments_lexer": "ipython3",
      "nbconvert_exporter": "python",
      "file_extension": ".py"
    },
    "kaggle": {
      "accelerator": "none",
      "dataSources": [
        {
          "sourceId": 4289678,
          "sourceType": "datasetVersion",
          "datasetId": 2527538
        }
      ],
      "dockerImageVersionId": 30445,
      "isInternetEnabled": true,
      "language": "python",
      "sourceType": "notebook",
      "isGpuEnabled": false
    },
    "colab": {
      "provenance": []
    }
  },
  "nbformat_minor": 0,
  "nbformat": 4,
  "cells": [
    {
      "cell_type": "markdown",
      "source": [
        "## Imports and Installations"
      ],
      "metadata": {
        "id": "7tLQ2gfzYq4X"
      }
    },
    {
      "cell_type": "code",
      "source": [
        "import random\n",
        "\n",
        "# Set a seed for the random number generator\n",
        "random.seed(42)  # You can choose any integer as the seed"
      ],
      "metadata": {
        "id": "fiLI5owiWDx6"
      },
      "execution_count": 1,
      "outputs": []
    },
    {
      "cell_type": "code",
      "source": [
        "!pip install shap"
      ],
      "metadata": {
        "execution": {
          "iopub.status.busy": "2023-12-04T23:48:44.202412Z",
          "iopub.execute_input": "2023-12-04T23:48:44.202747Z",
          "iopub.status.idle": "2023-12-04T23:48:53.275168Z",
          "shell.execute_reply.started": "2023-12-04T23:48:44.202719Z",
          "shell.execute_reply": "2023-12-04T23:48:53.274077Z"
        },
        "trusted": true,
        "colab": {
          "base_uri": "https://localhost:8080/"
        },
        "id": "yzDd-YM-SX6L",
        "outputId": "716cfddf-7cae-4d58-a9e0-03ab614b3637"
      },
      "execution_count": 2,
      "outputs": [
        {
          "output_type": "stream",
          "name": "stdout",
          "text": [
            "Requirement already satisfied: shap in /usr/local/lib/python3.10/dist-packages (0.44.0)\n",
            "Requirement already satisfied: numpy in /usr/local/lib/python3.10/dist-packages (from shap) (1.23.5)\n",
            "Requirement already satisfied: scipy in /usr/local/lib/python3.10/dist-packages (from shap) (1.11.4)\n",
            "Requirement already satisfied: scikit-learn in /usr/local/lib/python3.10/dist-packages (from shap) (1.2.2)\n",
            "Requirement already satisfied: pandas in /usr/local/lib/python3.10/dist-packages (from shap) (1.5.3)\n",
            "Requirement already satisfied: tqdm>=4.27.0 in /usr/local/lib/python3.10/dist-packages (from shap) (4.66.1)\n",
            "Requirement already satisfied: packaging>20.9 in /usr/local/lib/python3.10/dist-packages (from shap) (23.2)\n",
            "Requirement already satisfied: slicer==0.0.7 in /usr/local/lib/python3.10/dist-packages (from shap) (0.0.7)\n",
            "Requirement already satisfied: numba in /usr/local/lib/python3.10/dist-packages (from shap) (0.58.1)\n",
            "Requirement already satisfied: cloudpickle in /usr/local/lib/python3.10/dist-packages (from shap) (2.2.1)\n",
            "Requirement already satisfied: llvmlite<0.42,>=0.41.0dev0 in /usr/local/lib/python3.10/dist-packages (from numba->shap) (0.41.1)\n",
            "Requirement already satisfied: python-dateutil>=2.8.1 in /usr/local/lib/python3.10/dist-packages (from pandas->shap) (2.8.2)\n",
            "Requirement already satisfied: pytz>=2020.1 in /usr/local/lib/python3.10/dist-packages (from pandas->shap) (2023.3.post1)\n",
            "Requirement already satisfied: joblib>=1.1.1 in /usr/local/lib/python3.10/dist-packages (from scikit-learn->shap) (1.3.2)\n",
            "Requirement already satisfied: threadpoolctl>=2.0.0 in /usr/local/lib/python3.10/dist-packages (from scikit-learn->shap) (3.2.0)\n",
            "Requirement already satisfied: six>=1.5 in /usr/local/lib/python3.10/dist-packages (from python-dateutil>=2.8.1->pandas->shap) (1.16.0)\n"
          ]
        }
      ]
    },
    {
      "cell_type": "code",
      "source": [
        "# Libraries\n",
        "import numpy as np\n",
        "import pandas as pd\n",
        "import statsmodels.api as sm\n",
        "import statsmodels.formula.api as smf\n",
        "import seaborn as sns\n",
        "from sklearn.preprocessing import scale\n",
        "from sklearn.utils import resample\n",
        "from sklearn.model_selection import train_test_split, GridSearchCV, cross_val_score, cross_val_predict\n",
        "from sklearn.metrics import confusion_matrix, accuracy_score, classification_report\n",
        "from sklearn.metrics import roc_auc_score,roc_curve\n",
        "import matplotlib.pyplot as plt\n",
        "from sklearn.preprocessing import MinMaxScaler, LabelEncoder, StandardScaler, RobustScaler\n",
        "from sklearn.neighbors import KNeighborsClassifier\n",
        "from sklearn import tree\n",
        "from sklearn.preprocessing import StandardScaler\n",
        "from sklearn.ensemble import RandomForestClassifier\n",
        "from sklearn.ensemble import GradientBoostingClassifier\n",
        "from xgboost import XGBClassifier\n",
        "from lightgbm import LGBMClassifier\n",
        "from sklearn.tree import DecisionTreeClassifier\n",
        "from sklearn.metrics import mean_squared_error\n",
        "from warnings import filterwarnings\n",
        "import random\n",
        "filterwarnings('ignore')\n"
      ],
      "metadata": {
        "_uuid": "8f2839f25d086af736a60e9eeb907d3b93b6e0e5",
        "_cell_guid": "b1076dfc-b9ad-4769-8c92-a6c4dae69d19",
        "execution": {
          "iopub.status.busy": "2023-12-04T23:48:53.277800Z",
          "iopub.execute_input": "2023-12-04T23:48:53.278201Z",
          "iopub.status.idle": "2023-12-04T23:48:53.286499Z",
          "shell.execute_reply.started": "2023-12-04T23:48:53.278163Z",
          "shell.execute_reply": "2023-12-04T23:48:53.285575Z"
        },
        "trusted": true,
        "id": "4VuqAqjiSX6M"
      },
      "execution_count": 3,
      "outputs": []
    },
    {
      "cell_type": "markdown",
      "source": [
        "## DATASET"
      ],
      "metadata": {
        "id": "HNWhSkI0SX6N"
      }
    },
    {
      "cell_type": "code",
      "source": [
        "pd.set_option('display.max_columns', None)\n",
        "pd.set_option('display.max_rows', None)\n",
        "pd.set_option('display.float_format', lambda x: '%.3f' % x)\n",
        "pd.set_option('display.width', 500)\n",
        "\n",
        "heart = pd.read_csv(\"./Dataset/heart_failure_dataset.csv\")\n",
        "df = heart.copy()\n",
        "df.head()"
      ],
      "metadata": {
        "execution": {
          "iopub.status.busy": "2023-12-04T23:48:53.287470Z",
          "iopub.execute_input": "2023-12-04T23:48:53.287806Z",
          "iopub.status.idle": "2023-12-04T23:48:53.311053Z",
          "shell.execute_reply.started": "2023-12-04T23:48:53.287772Z",
          "shell.execute_reply": "2023-12-04T23:48:53.310165Z"
        },
        "trusted": true,
        "id": "kGHyfBOySX6N",
        "colab": {
          "base_uri": "https://localhost:8080/",
          "height": 195
        },
        "outputId": "0bcea212-64be-40d7-ce33-2865be318cc9"
      },
      "execution_count": 7,
      "outputs": [
        {
          "output_type": "execute_result",
          "data": {
            "text/plain": [
              "     age  anaemia  creatinine_phosphokinase  diabetes  ejection_fraction  high_blood_pressure  platelets  serum_creatinine  serum_sodium  sex  smoking  time  DEATH_EVENT\n",
              "0 49.000        1                        80         0                 30                    1 427000.000             1.000           138    0        0    12            0\n",
              "1 65.000        1                        52         0                 25                    1 276000.000             1.300           137    0        0    16            0\n",
              "2 53.000        0                        63         1                 60                    0 368000.000             0.800           135    1        0    22            0\n",
              "3 50.000        1                       159         1                 30                    0 302000.000             1.200           138    0        0    29            0\n",
              "4 72.000        0                       127         1                 50                    1 218000.000             1.000           134    1        0    33            0"
            ],
            "text/html": [
              "\n",
              "  <div id=\"df-33e43032-f71e-4052-acaa-27e3318b0238\" class=\"colab-df-container\">\n",
              "    <div>\n",
              "<style scoped>\n",
              "    .dataframe tbody tr th:only-of-type {\n",
              "        vertical-align: middle;\n",
              "    }\n",
              "\n",
              "    .dataframe tbody tr th {\n",
              "        vertical-align: top;\n",
              "    }\n",
              "\n",
              "    .dataframe thead th {\n",
              "        text-align: right;\n",
              "    }\n",
              "</style>\n",
              "<table border=\"1\" class=\"dataframe\">\n",
              "  <thead>\n",
              "    <tr style=\"text-align: right;\">\n",
              "      <th></th>\n",
              "      <th>age</th>\n",
              "      <th>anaemia</th>\n",
              "      <th>creatinine_phosphokinase</th>\n",
              "      <th>diabetes</th>\n",
              "      <th>ejection_fraction</th>\n",
              "      <th>high_blood_pressure</th>\n",
              "      <th>platelets</th>\n",
              "      <th>serum_creatinine</th>\n",
              "      <th>serum_sodium</th>\n",
              "      <th>sex</th>\n",
              "      <th>smoking</th>\n",
              "      <th>time</th>\n",
              "      <th>DEATH_EVENT</th>\n",
              "    </tr>\n",
              "  </thead>\n",
              "  <tbody>\n",
              "    <tr>\n",
              "      <th>0</th>\n",
              "      <td>49.000</td>\n",
              "      <td>1</td>\n",
              "      <td>80</td>\n",
              "      <td>0</td>\n",
              "      <td>30</td>\n",
              "      <td>1</td>\n",
              "      <td>427000.000</td>\n",
              "      <td>1.000</td>\n",
              "      <td>138</td>\n",
              "      <td>0</td>\n",
              "      <td>0</td>\n",
              "      <td>12</td>\n",
              "      <td>0</td>\n",
              "    </tr>\n",
              "    <tr>\n",
              "      <th>1</th>\n",
              "      <td>65.000</td>\n",
              "      <td>1</td>\n",
              "      <td>52</td>\n",
              "      <td>0</td>\n",
              "      <td>25</td>\n",
              "      <td>1</td>\n",
              "      <td>276000.000</td>\n",
              "      <td>1.300</td>\n",
              "      <td>137</td>\n",
              "      <td>0</td>\n",
              "      <td>0</td>\n",
              "      <td>16</td>\n",
              "      <td>0</td>\n",
              "    </tr>\n",
              "    <tr>\n",
              "      <th>2</th>\n",
              "      <td>53.000</td>\n",
              "      <td>0</td>\n",
              "      <td>63</td>\n",
              "      <td>1</td>\n",
              "      <td>60</td>\n",
              "      <td>0</td>\n",
              "      <td>368000.000</td>\n",
              "      <td>0.800</td>\n",
              "      <td>135</td>\n",
              "      <td>1</td>\n",
              "      <td>0</td>\n",
              "      <td>22</td>\n",
              "      <td>0</td>\n",
              "    </tr>\n",
              "    <tr>\n",
              "      <th>3</th>\n",
              "      <td>50.000</td>\n",
              "      <td>1</td>\n",
              "      <td>159</td>\n",
              "      <td>1</td>\n",
              "      <td>30</td>\n",
              "      <td>0</td>\n",
              "      <td>302000.000</td>\n",
              "      <td>1.200</td>\n",
              "      <td>138</td>\n",
              "      <td>0</td>\n",
              "      <td>0</td>\n",
              "      <td>29</td>\n",
              "      <td>0</td>\n",
              "    </tr>\n",
              "    <tr>\n",
              "      <th>4</th>\n",
              "      <td>72.000</td>\n",
              "      <td>0</td>\n",
              "      <td>127</td>\n",
              "      <td>1</td>\n",
              "      <td>50</td>\n",
              "      <td>1</td>\n",
              "      <td>218000.000</td>\n",
              "      <td>1.000</td>\n",
              "      <td>134</td>\n",
              "      <td>1</td>\n",
              "      <td>0</td>\n",
              "      <td>33</td>\n",
              "      <td>0</td>\n",
              "    </tr>\n",
              "  </tbody>\n",
              "</table>\n",
              "</div>\n",
              "    <div class=\"colab-df-buttons\">\n",
              "\n",
              "  <div class=\"colab-df-container\">\n",
              "    <button class=\"colab-df-convert\" onclick=\"convertToInteractive('df-33e43032-f71e-4052-acaa-27e3318b0238')\"\n",
              "            title=\"Convert this dataframe to an interactive table.\"\n",
              "            style=\"display:none;\">\n",
              "\n",
              "  <svg xmlns=\"http://www.w3.org/2000/svg\" height=\"24px\" viewBox=\"0 -960 960 960\">\n",
              "    <path d=\"M120-120v-720h720v720H120Zm60-500h600v-160H180v160Zm220 220h160v-160H400v160Zm0 220h160v-160H400v160ZM180-400h160v-160H180v160Zm440 0h160v-160H620v160ZM180-180h160v-160H180v160Zm440 0h160v-160H620v160Z\"/>\n",
              "  </svg>\n",
              "    </button>\n",
              "\n",
              "  <style>\n",
              "    .colab-df-container {\n",
              "      display:flex;\n",
              "      gap: 12px;\n",
              "    }\n",
              "\n",
              "    .colab-df-convert {\n",
              "      background-color: #E8F0FE;\n",
              "      border: none;\n",
              "      border-radius: 50%;\n",
              "      cursor: pointer;\n",
              "      display: none;\n",
              "      fill: #1967D2;\n",
              "      height: 32px;\n",
              "      padding: 0 0 0 0;\n",
              "      width: 32px;\n",
              "    }\n",
              "\n",
              "    .colab-df-convert:hover {\n",
              "      background-color: #E2EBFA;\n",
              "      box-shadow: 0px 1px 2px rgba(60, 64, 67, 0.3), 0px 1px 3px 1px rgba(60, 64, 67, 0.15);\n",
              "      fill: #174EA6;\n",
              "    }\n",
              "\n",
              "    .colab-df-buttons div {\n",
              "      margin-bottom: 4px;\n",
              "    }\n",
              "\n",
              "    [theme=dark] .colab-df-convert {\n",
              "      background-color: #3B4455;\n",
              "      fill: #D2E3FC;\n",
              "    }\n",
              "\n",
              "    [theme=dark] .colab-df-convert:hover {\n",
              "      background-color: #434B5C;\n",
              "      box-shadow: 0px 1px 3px 1px rgba(0, 0, 0, 0.15);\n",
              "      filter: drop-shadow(0px 1px 2px rgba(0, 0, 0, 0.3));\n",
              "      fill: #FFFFFF;\n",
              "    }\n",
              "  </style>\n",
              "\n",
              "    <script>\n",
              "      const buttonEl =\n",
              "        document.querySelector('#df-33e43032-f71e-4052-acaa-27e3318b0238 button.colab-df-convert');\n",
              "      buttonEl.style.display =\n",
              "        google.colab.kernel.accessAllowed ? 'block' : 'none';\n",
              "\n",
              "      async function convertToInteractive(key) {\n",
              "        const element = document.querySelector('#df-33e43032-f71e-4052-acaa-27e3318b0238');\n",
              "        const dataTable =\n",
              "          await google.colab.kernel.invokeFunction('convertToInteractive',\n",
              "                                                    [key], {});\n",
              "        if (!dataTable) return;\n",
              "\n",
              "        const docLinkHtml = 'Like what you see? Visit the ' +\n",
              "          '<a target=\"_blank\" href=https://colab.research.google.com/notebooks/data_table.ipynb>data table notebook</a>'\n",
              "          + ' to learn more about interactive tables.';\n",
              "        element.innerHTML = '';\n",
              "        dataTable['output_type'] = 'display_data';\n",
              "        await google.colab.output.renderOutput(dataTable, element);\n",
              "        const docLink = document.createElement('div');\n",
              "        docLink.innerHTML = docLinkHtml;\n",
              "        element.appendChild(docLink);\n",
              "      }\n",
              "    </script>\n",
              "  </div>\n",
              "\n",
              "\n",
              "<div id=\"df-4e2b79cf-6455-4729-b1e8-e7bfa085bcb7\">\n",
              "  <button class=\"colab-df-quickchart\" onclick=\"quickchart('df-4e2b79cf-6455-4729-b1e8-e7bfa085bcb7')\"\n",
              "            title=\"Suggest charts\"\n",
              "            style=\"display:none;\">\n",
              "\n",
              "<svg xmlns=\"http://www.w3.org/2000/svg\" height=\"24px\"viewBox=\"0 0 24 24\"\n",
              "     width=\"24px\">\n",
              "    <g>\n",
              "        <path d=\"M19 3H5c-1.1 0-2 .9-2 2v14c0 1.1.9 2 2 2h14c1.1 0 2-.9 2-2V5c0-1.1-.9-2-2-2zM9 17H7v-7h2v7zm4 0h-2V7h2v10zm4 0h-2v-4h2v4z\"/>\n",
              "    </g>\n",
              "</svg>\n",
              "  </button>\n",
              "\n",
              "<style>\n",
              "  .colab-df-quickchart {\n",
              "      --bg-color: #E8F0FE;\n",
              "      --fill-color: #1967D2;\n",
              "      --hover-bg-color: #E2EBFA;\n",
              "      --hover-fill-color: #174EA6;\n",
              "      --disabled-fill-color: #AAA;\n",
              "      --disabled-bg-color: #DDD;\n",
              "  }\n",
              "\n",
              "  [theme=dark] .colab-df-quickchart {\n",
              "      --bg-color: #3B4455;\n",
              "      --fill-color: #D2E3FC;\n",
              "      --hover-bg-color: #434B5C;\n",
              "      --hover-fill-color: #FFFFFF;\n",
              "      --disabled-bg-color: #3B4455;\n",
              "      --disabled-fill-color: #666;\n",
              "  }\n",
              "\n",
              "  .colab-df-quickchart {\n",
              "    background-color: var(--bg-color);\n",
              "    border: none;\n",
              "    border-radius: 50%;\n",
              "    cursor: pointer;\n",
              "    display: none;\n",
              "    fill: var(--fill-color);\n",
              "    height: 32px;\n",
              "    padding: 0;\n",
              "    width: 32px;\n",
              "  }\n",
              "\n",
              "  .colab-df-quickchart:hover {\n",
              "    background-color: var(--hover-bg-color);\n",
              "    box-shadow: 0 1px 2px rgba(60, 64, 67, 0.3), 0 1px 3px 1px rgba(60, 64, 67, 0.15);\n",
              "    fill: var(--button-hover-fill-color);\n",
              "  }\n",
              "\n",
              "  .colab-df-quickchart-complete:disabled,\n",
              "  .colab-df-quickchart-complete:disabled:hover {\n",
              "    background-color: var(--disabled-bg-color);\n",
              "    fill: var(--disabled-fill-color);\n",
              "    box-shadow: none;\n",
              "  }\n",
              "\n",
              "  .colab-df-spinner {\n",
              "    border: 2px solid var(--fill-color);\n",
              "    border-color: transparent;\n",
              "    border-bottom-color: var(--fill-color);\n",
              "    animation:\n",
              "      spin 1s steps(1) infinite;\n",
              "  }\n",
              "\n",
              "  @keyframes spin {\n",
              "    0% {\n",
              "      border-color: transparent;\n",
              "      border-bottom-color: var(--fill-color);\n",
              "      border-left-color: var(--fill-color);\n",
              "    }\n",
              "    20% {\n",
              "      border-color: transparent;\n",
              "      border-left-color: var(--fill-color);\n",
              "      border-top-color: var(--fill-color);\n",
              "    }\n",
              "    30% {\n",
              "      border-color: transparent;\n",
              "      border-left-color: var(--fill-color);\n",
              "      border-top-color: var(--fill-color);\n",
              "      border-right-color: var(--fill-color);\n",
              "    }\n",
              "    40% {\n",
              "      border-color: transparent;\n",
              "      border-right-color: var(--fill-color);\n",
              "      border-top-color: var(--fill-color);\n",
              "    }\n",
              "    60% {\n",
              "      border-color: transparent;\n",
              "      border-right-color: var(--fill-color);\n",
              "    }\n",
              "    80% {\n",
              "      border-color: transparent;\n",
              "      border-right-color: var(--fill-color);\n",
              "      border-bottom-color: var(--fill-color);\n",
              "    }\n",
              "    90% {\n",
              "      border-color: transparent;\n",
              "      border-bottom-color: var(--fill-color);\n",
              "    }\n",
              "  }\n",
              "</style>\n",
              "\n",
              "  <script>\n",
              "    async function quickchart(key) {\n",
              "      const quickchartButtonEl =\n",
              "        document.querySelector('#' + key + ' button');\n",
              "      quickchartButtonEl.disabled = true;  // To prevent multiple clicks.\n",
              "      quickchartButtonEl.classList.add('colab-df-spinner');\n",
              "      try {\n",
              "        const charts = await google.colab.kernel.invokeFunction(\n",
              "            'suggestCharts', [key], {});\n",
              "      } catch (error) {\n",
              "        console.error('Error during call to suggestCharts:', error);\n",
              "      }\n",
              "      quickchartButtonEl.classList.remove('colab-df-spinner');\n",
              "      quickchartButtonEl.classList.add('colab-df-quickchart-complete');\n",
              "    }\n",
              "    (() => {\n",
              "      let quickchartButtonEl =\n",
              "        document.querySelector('#df-4e2b79cf-6455-4729-b1e8-e7bfa085bcb7 button');\n",
              "      quickchartButtonEl.style.display =\n",
              "        google.colab.kernel.accessAllowed ? 'block' : 'none';\n",
              "    })();\n",
              "  </script>\n",
              "</div>\n",
              "    </div>\n",
              "  </div>\n"
            ]
          },
          "metadata": {},
          "execution_count": 7
        }
      ]
    },
    {
      "cell_type": "markdown",
      "source": [
        "## Processing Data : Oversampling and Outlier Removal\n",
        "Steps performed:\n",
        "- Outlier Removal\n",
        "- Oversampling to fix class imbalance\n",
        "\n",
        "The current csv being used is the dataset we are using after performing these two steps to ensure reproducibility across each run\n",
        "\n"
      ],
      "metadata": {
        "id": "8-HTCOTaMFdI"
      }
    },
    {
      "cell_type": "code",
      "source": [
        "# Q1 = df.quantile(0.25)\n",
        "# Q3 = df.quantile(0.75)\n",
        "# IQR = Q3 - Q1\n",
        "# print(f\"Shape before removing outliers: {df.shape}\")\n",
        "\n",
        "# # Use boolean indexing to filter outliers\n",
        "# outliers = ((df < (Q1 - 1.5 * IQR)) | (df > (Q3 + 1.5 * IQR))).any(axis=1)\n",
        "# df = df[~outliers].reset_index(drop=True)\n",
        "\n",
        "# print(f\"Shape after removing outliers: {df.shape}\")\n",
        "# print(f\"Outliers removed: {outliers.sum()}\")"
      ],
      "metadata": {
        "id": "F98MSRvTIQDu"
      },
      "execution_count": 8,
      "outputs": []
    },
    {
      "cell_type": "code",
      "source": [
        "# df_majority = df[df.DEATH_EVENT == 0]\n",
        "# df_minority = df[df.DEATH_EVENT == 1]\n",
        "\n",
        "# # Double the minority class\n",
        "# df_minority_doubled = resample(df_minority,\n",
        "#                                replace=True,      # sample with replacement\n",
        "#                                n_samples=len(df_majority), # to double minority class\n",
        "#                                random_state=123)  # reproducible results\n",
        "\n",
        "# # Combine majority class with doubled minority class\n",
        "# df_balanced = pd.concat([df_majority, df_minority_doubled])\n",
        "\n",
        "# # Display new class counts\n",
        "# print(df_balanced.DEATH_EVENT.value_counts())"
      ],
      "metadata": {
        "id": "X-7YKGhQQoJO"
      },
      "execution_count": 9,
      "outputs": []
    },
    {
      "cell_type": "markdown",
      "source": [
        "## Feature Selection\n"
      ],
      "metadata": {
        "id": "_sJwx9e17wEf"
      }
    },
    {
      "cell_type": "code",
      "source": [
        "controllable_feature = ['diabetes','anaemia','creatinine_phosphokinase', 'serum_sodium','smoking',\\\n",
        "                        'high_blood_pressure','platelets','serum_creatinine','ejection_fraction']\n",
        "#features which a user can potentially alter by altering their lifestyles"
      ],
      "metadata": {
        "id": "kfcAxNJ_LRw3"
      },
      "execution_count": 10,
      "outputs": []
    },
    {
      "cell_type": "code",
      "source": [
        "X = df[controllable_feature]\n",
        "y = df['DEATH_EVENT']"
      ],
      "metadata": {
        "id": "bVotmmHWIP_x"
      },
      "execution_count": 11,
      "outputs": []
    },
    {
      "cell_type": "markdown",
      "source": [
        "## Splitting Data and Training"
      ],
      "metadata": {
        "id": "7FhFopWCNDxE"
      }
    },
    {
      "cell_type": "code",
      "source": [
        "from sklearn.model_selection import train_test_split\n",
        "\n",
        "X_train, X_test,y_train,y_test= train_test_split(X,y,random_state=42,test_size=0.20)\n",
        "X_train.shape, X_test.shape, y_test.shape,y_train.shape"
      ],
      "metadata": {
        "colab": {
          "base_uri": "https://localhost:8080/"
        },
        "id": "7f1hlkUuNVzg",
        "outputId": "e4aff78b-015b-48da-b296-8a59dfb11c32"
      },
      "execution_count": 12,
      "outputs": [
        {
          "output_type": "execute_result",
          "data": {
            "text/plain": [
              "((260, 9), (66, 9), (66,), (260,))"
            ]
          },
          "metadata": {},
          "execution_count": 12
        }
      ]
    },
    {
      "cell_type": "code",
      "source": [
        "# binary_col = ['anaemia', 'diabetes','high_blood_pressure','smoking']\n",
        "# continuous_col = result = list(set(X_train.columns) - set(binary_col))"
      ],
      "metadata": {
        "id": "4aahOp8UWmsz"
      },
      "execution_count": 13,
      "outputs": []
    },
    {
      "cell_type": "code",
      "source": [
        "sc = StandardScaler()\n",
        "X_train = sc.fit_transform(X_train)\n",
        "X_test= sc.transform(X_test)\n",
        "X_test_df = pd.DataFrame(X_test, columns=['diabetes', 'anaemia', 'creatinine_phosphokinase', \\\n",
        "                                          'serum_sodium', 'smoking', 'high_blood_pressure',\\\n",
        "                                          'platelets', 'serum_creatinine', 'ejection_fraction'])"
      ],
      "metadata": {
        "id": "reBpKxeEIP9d"
      },
      "execution_count": 14,
      "outputs": []
    },
    {
      "cell_type": "code",
      "source": [
        "from sklearn.ensemble import RandomForestClassifier\n",
        "\n",
        "rf = RandomForestClassifier(random_state = 42)\n",
        "rf_model = rf.fit(X_train, y_train)\n",
        "y_pred = rf_model.predict(X_test)\n",
        "accuracy = accuracy_score(y_test, y_pred)\n",
        "print(classification_report(y_test, y_pred))"
      ],
      "metadata": {
        "colab": {
          "base_uri": "https://localhost:8080/"
        },
        "id": "aL_HucYAdski",
        "outputId": "090b5e47-e34c-4ff5-ab39-0171fdb58142"
      },
      "execution_count": 15,
      "outputs": [
        {
          "output_type": "stream",
          "name": "stdout",
          "text": [
            "              precision    recall  f1-score   support\n",
            "\n",
            "           0       0.93      0.76      0.83        33\n",
            "           1       0.79      0.94      0.86        33\n",
            "\n",
            "    accuracy                           0.85        66\n",
            "   macro avg       0.86      0.85      0.85        66\n",
            "weighted avg       0.86      0.85      0.85        66\n",
            "\n"
          ]
        }
      ]
    },
    {
      "cell_type": "markdown",
      "source": [
        "## Getting SHAPley values"
      ],
      "metadata": {
        "id": "DVpOSKIFY2OG"
      }
    },
    {
      "cell_type": "code",
      "source": [
        "import shap\n",
        "explainer = shap.TreeExplainer(rf, X_train)\n",
        "\n",
        "# Calculate SHAP values for the test data\n",
        "shap_values = explainer.shap_values(X_test, check_additivity=False)\n",
        "\n",
        "# Create a summary plot for feature importance across all predictions\n",
        "shap.summary_plot(shap_values[1], X_test, feature_names=X.columns)"
      ],
      "metadata": {
        "execution": {
          "iopub.status.busy": "2023-12-04T23:49:00.947977Z",
          "iopub.execute_input": "2023-12-04T23:49:00.948439Z",
          "iopub.status.idle": "2023-12-04T23:49:02.303639Z",
          "shell.execute_reply.started": "2023-12-04T23:49:00.948367Z",
          "shell.execute_reply": "2023-12-04T23:49:02.302574Z"
        },
        "trusted": true,
        "id": "_fEpimjBSX6e",
        "colab": {
          "base_uri": "https://localhost:8080/",
          "height": 500
        },
        "outputId": "9b09661b-bc49-48d2-daa9-d45b2708728a"
      },
      "execution_count": 16,
      "outputs": [
        {
          "output_type": "display_data",
          "data": {
            "text/plain": [
              "<Figure size 800x510 with 2 Axes>"
            ],
            "image/png": "[encoded data removed]"
          },
          "metadata": {}
        }
      ]
    },
    {
      "cell_type": "code",
      "source": [
        "#shap_values = explainer(X_test)\n",
        "\n",
        "# Create a DataFrame with SHAP values and 'ID' as a separate column\n",
        "shap_df = pd.DataFrame(shap_values[1], columns=X_test_df.columns)\n",
        "\n",
        "shap_df['ID'] = [i for i in range(1, len(X_test)+1)]\n",
        "class_probabilities = rf.predict_proba(X_test)[:, 1]\n",
        "predicted_labels = rf.predict(X_test)\n",
        "shap_df['prediction'] = predicted_labels\n",
        "shap_df['class_prob'] = class_probabilities"
      ],
      "metadata": {
        "execution": {
          "iopub.status.busy": "2023-12-04T23:49:02.312866Z",
          "iopub.execute_input": "2023-12-04T23:49:02.313191Z",
          "iopub.status.idle": "2023-12-04T23:49:02.326271Z",
          "shell.execute_reply.started": "2023-12-04T23:49:02.313154Z",
          "shell.execute_reply": "2023-12-04T23:49:02.325303Z"
        },
        "trusted": true,
        "id": "qetNSjvSSX6e"
      },
      "execution_count": 17,
      "outputs": []
    },
    {
      "cell_type": "code",
      "source": [
        "X_test_n = X_test_df.copy()\n",
        "X_test_n[controllable_feature] = sc.inverse_transform(X_test_df[controllable_feature])"
      ],
      "metadata": {
        "id": "42ZWqhCuUrxM"
      },
      "execution_count": 18,
      "outputs": []
    },
    {
      "cell_type": "code",
      "source": [
        "X_test_n['ID'] = [i for i in range(1, len(X_test)+1)]\n",
        "X_test_n['label'] = list(y_test)"
      ],
      "metadata": {
        "id": "vXuXdE5FEu59"
      },
      "execution_count": 19,
      "outputs": []
    },
    {
      "cell_type": "code",
      "source": [
        "# Set a fixed seed for reproducibility\n",
        "'''\n",
        "Select 25 examples with even distribution of classes\n",
        "'''\n",
        "random_state = 42\n",
        "\n",
        "# Separate examples by class\n",
        "class_0_examples = X_test_n[X_test_n['label'] == 0]\n",
        "class_1_examples = X_test_n[X_test_n['label'] == 1]\n",
        "\n",
        "# Select 13 examples labeled as '1' and 12 examples labeled as '0'\n",
        "X_test_llm = pd.concat([class_0_examples.sample(12, random_state=random_state),\n",
        "                        class_1_examples.sample(13, random_state=random_state)])\n",
        "\n",
        "# The random_state parameter ensures consistent sampling\n"
      ],
      "metadata": {
        "id": "idunJE0dFBFl"
      },
      "execution_count": 20,
      "outputs": []
    },
    {
      "cell_type": "code",
      "source": [
        "shap_df_llm = shap_df[shap_df['ID'].isin(X_test_llm['ID'])]"
      ],
      "metadata": {
        "id": "vdAyB1ALFYhx"
      },
      "execution_count": 21,
      "outputs": []
    },
    {
      "cell_type": "markdown",
      "source": [
        "## Designing the Prompt"
      ],
      "metadata": {
        "id": "x55Fe_8DY8tn"
      }
    },
    {
      "cell_type": "code",
      "source": [
        "def getPrompts():\n",
        "  prompt1 = \"\"\"Hey buddy,\n",
        "We want to use natural text to query a machine-learning medical model directly, bridging the gap between complex algorithmic processes and patient comprehensibility.\n",
        "We have trained a machine learning model to predict the likelihood of the person getting diagnosed with Heart Failure when given a patient's vital feature data.\n",
        "Given the feature list and the corresponding SHAP values for that patient, I want you to translate a simple, human-understandable explanation of how the model works, and, in case of the question request lifestyle suggestion, I want you to suggest changes to the two most important features to increase the likelihood of the person surviving.\n",
        "\n",
        "\n",
        "Here is the feature list:\n",
        "['diabetes', 'anaemia','creatinine_phosphokinase','serum_sodium','smoking','high_blood_pressure', 'platelets','serum_creatinine','ejection_fraction']\n",
        "\n",
        "Here is the model prediction probability (0: No Death By Heart Failure, 1: Death By Heart Failure): \"\"\"\n",
        "\n",
        "  # prob = 0.1 # fill actual values\n",
        "\n",
        "  prompt2 = \"\"\"\\n\\nHere are this test subjects corresponding feature values: \"\"\"\n",
        "\n",
        "  # feature_values = [21,4,3,425,43,2]\n",
        "\n",
        "  prompt3 = \"\"\"\\n\\nAnd here are the corresponding SHAP values for that particular patient/record in the test set: \"\"\"\n",
        "\n",
        "  # shap_values = [2332,342,4,36,3,654,76,47]\n",
        "\n",
        "  prompt4 = \"\"\"\\n\\nThe Question:\\n\"\"\"\n",
        "\n",
        "  # ques = \"what can I as a patient focus on to reduce my risk rate?\"\n",
        "\n",
        "  prompt5=\"\\n\\nYour Answer in no more than 250 words :\\n\"\n",
        "\n",
        "  prompt6=\"\\nYou are trying to explain it to a patient who does not have a machine learning experience and what SHAP values mean.\\n\"\n",
        "\n",
        "  return prompt1, prompt2, prompt3, prompt4, prompt5,prompt6"
      ],
      "metadata": {
        "id": "LBqCujG6THcD"
      },
      "execution_count": 22,
      "outputs": []
    },
    {
      "cell_type": "code",
      "source": [
        "def generate_final_prompt(prob, features_values, shap_values, ques):\n",
        "\n",
        "    prompt1, prompt2, prompt3, prompt4, prompt5, prompt6 = getPrompts()\n",
        "    prompt = prompt1 + str(prob) + prompt2 + str(features_values) + prompt3 + str(shap_values) + prompt4 + str(ques) + prompt5 + prompt6\n",
        "\n",
        "    return prompt"
      ],
      "metadata": {
        "id": "RYM-RbriTejB"
      },
      "execution_count": 23,
      "outputs": []
    },
    {
      "cell_type": "code",
      "source": [
        "question_list_high_risk = [\"Why is the risk score so high?\",\\\n",
        "                           \"What could be done to lower the risk score?\",\\\n",
        "                           \"How would a change in high_blood_pressure (or/and, 'diabetes', \\\n",
        "                           'anaemia', 'creatinine_phosphokinase', 'serum_sodium', 'smoking', \\\n",
        "                           'platelets', 'serum_creatinine', 'ejection_fraction') affect this risk score?\"]"
      ],
      "metadata": {
        "id": "GK5p3vanW1YR"
      },
      "execution_count": 24,
      "outputs": []
    },
    {
      "cell_type": "code",
      "source": [
        "question_list_low_risk = [\"What factors contributed to my low risk of heart failure?\",\\\n",
        "                          \"Are there specific lifestyle changes I can make to maintain this low risk?\",\\\n",
        "                          \"How would a change in high_blood_pressure (or/and, 'diabetes', 'anaemia',\\\n",
        "                          'creatinine_phosphokinase', 'serum_sodium', 'smoking', 'platelets', \\\n",
        "                          'serum_creatinine', 'ejection_fraction') affect this risk score?\"]"
      ],
      "metadata": {
        "id": "0MjINE7qifE5"
      },
      "execution_count": 25,
      "outputs": []
    },
    {
      "cell_type": "code",
      "source": [
        "'''\n",
        "Get the final prompts\n",
        "'''\n",
        "\n",
        "prompt_entries = []  # Initialize an empty list to store the final prompts\n",
        "\n",
        "# Iterate over each row in the shap_df_llm dataframe\n",
        "for index, row in shap_df_llm.iterrows():\n",
        "    # Extract SHAP values for specified features from the current row\n",
        "    shap_values = list(row[['diabetes', 'anaemia', 'creatinine_phosphokinase', 'serum_sodium', 'smoking', 'high_blood_pressure', 'platelets', 'serum_creatinine', 'ejection_fraction']])\n",
        "\n",
        "    # Retrieve the corresponding features' values from X_test_llm dataframe using the ID from the current row\n",
        "    features = X_test_llm[X_test_llm['ID'] == row['ID']].iloc[0]\n",
        "    features_values = list(features[['diabetes', 'anaemia', 'creatinine_phosphokinase', 'serum_sodium', 'smoking', 'high_blood_pressure', 'platelets', 'serum_creatinine', 'ejection_fraction']])\n",
        "\n",
        "    # Get the predicted class probability from the current row\n",
        "    pred = row['class_prob']\n",
        "\n",
        "    # Determine the risk level based on the predicted probability and select the appropriate question list\n",
        "    if pred >= 0.5:\n",
        "        question_list = question_list_high_risk  # Use high-risk questions for predictions >= 0.5\n",
        "    else:\n",
        "        question_list = question_list_low_risk   # Use low-risk questions otherwise\n",
        "\n",
        "    # Generate prompts for each question in the selected question list\n",
        "    for ques in question_list:\n",
        "        prompt = generate_final_prompt(pred, features_values, shap_values, ques)\n",
        "        # Append the generated prompt along with the ID to the prompt_entries list\n",
        "        prompt_entries.append([row['ID'], prompt])"
      ],
      "metadata": {
        "id": "4eWty-JfT8A-"
      },
      "execution_count": 28,
      "outputs": []
    },
    {
      "cell_type": "code",
      "source": [
        "df_prompts = pd.DataFrame(prompt_entries, columns=['ID', 'Prompt'])"
      ],
      "metadata": {
        "id": "WblogK6dT_NN"
      },
      "execution_count": 29,
      "outputs": []
    },
    {
      "cell_type": "code",
      "source": [],
      "metadata": {
        "id": "TOkO3MBD86k_"
      },
      "execution_count": null,
      "outputs": []
    }
  ]
}